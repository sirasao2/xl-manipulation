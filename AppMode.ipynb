{
 "cells": [
  {
   "cell_type": "markdown",
   "metadata": {},
   "source": [
    "<h1><center>Welcome to the Preload Automation Tool.</center></h1>"
   ]
  },
  {
   "cell_type": "markdown",
   "metadata": {},
   "source": [
    "## Insert the Build Plan Path Below"
   ]
  },
  {
   "cell_type": "code",
   "execution_count": 86,
   "metadata": {},
   "outputs": [
    {
     "data": {
      "application/vnd.jupyter.widget-view+json": {
       "model_id": "f1f42d48c3a64fd99a6f32c265887c72",
       "version_major": 2,
       "version_minor": 0
      },
      "text/plain": [
       "Text(value='C:\\\\Users\\\\rs623u\\\\automation\\\\testruns\\\\Automation_Build_Plan_AIC_DPA2A_CTS02_v1.8.xlsx', descrip…"
      ]
     },
     "metadata": {},
     "output_type": "display_data"
    }
   ],
   "source": [
    "from __future__ import division\n",
    "import ipywidgets as widgets\n",
    "from IPython.display import display\n",
    "import os\n",
    "output = widgets.Text(placeholder=\"0\", layout=widgets.Layout(width=\"200px\"),  disabled=True)\n",
    "\n",
    "build_plan_path = widgets.Text(\n",
    "    value= r\"C:\\Users\\rs623u\\automation\\testruns\\Automation_Build_Plan_AIC_DPA2A_CTS02_v1.8.xlsx\", #change\n",
    "    placeholder=\"Paste Build Plan Path\",\n",
    "    description=\"PATH1:\",\n",
    "    disabled=False\n",
    ")\n",
    "display(build_plan_path)"
   ]
  },
  {
   "cell_type": "code",
   "execution_count": 87,
   "metadata": {},
   "outputs": [
    {
     "data": {
      "application/vnd.jupyter.widget-view+json": {
       "model_id": "28d8d4e5c0ff4e70934fe1923f73b2e3",
       "version_major": 2,
       "version_minor": 0
      },
      "text/plain": [
       "Button(description='Print Path', style=ButtonStyle())"
      ]
     },
     "metadata": {},
     "output_type": "display_data"
    }
   ],
   "source": [
    "button = widgets.Button(description=\"Update Path\")\n",
    "display(button)\n",
    "def work1(build_plan_path):\n",
    "    build_plan_path = str(build_plan_path)\n",
    "    a, b = build_plan_path.find(\"'\"), build_plan_path.find(\",\")\n",
    "    build_plan_path = build_plan_path[a:b]\n",
    "    build_plan_path = build_plan_path.replace(\"'\", \"\")\n",
    "    build_plan_path = build_plan_path\n",
    "    print(build_plan_path)\n",
    "\n",
    "def on_button_clicked(b):\n",
    "    work1(build_plan_path)\n",
    "button.on_click(on_button_clicked)"
   ]
  },
  {
   "cell_type": "markdown",
   "metadata": {},
   "source": [
    "## Insert the Preload Templates Folder Path Below"
   ]
  },
  {
   "cell_type": "code",
   "execution_count": 88,
   "metadata": {},
   "outputs": [
    {
     "data": {
      "application/vnd.jupyter.widget-view+json": {
       "model_id": "d4e905f76b8b46c2be53a1d141d2a1db",
       "version_major": 2,
       "version_minor": 0
      },
      "text/plain": [
       "Text(value='C:\\\\\\\\Users\\\\rs623u\\\\\\\\automation\\\\\\\\testruns\\\\testin\\\\\\\\', description='PATH2', placeholder='Past…"
      ]
     },
     "metadata": {},
     "output_type": "display_data"
    }
   ],
   "source": [
    "#paths_upload = widgets.FileUpload(multiple=False)\n",
    "#display(paths_upload)\n",
    "paths = widgets.Text(\n",
    "    value= r\"C:\\\\Users\\rs623u\\\\automation\\\\testruns\\testin\\\\\",\n",
    "    placeholder=\"Paste Preload Templates Path\",\n",
    "    description=\"PATH2\",\n",
    "    disabled=False\n",
    ")\n",
    "display(paths)"
   ]
  },
  {
   "cell_type": "code",
   "execution_count": 89,
   "metadata": {},
   "outputs": [
    {
     "data": {
      "application/vnd.jupyter.widget-view+json": {
       "model_id": "af14229519b549e38a4f7a21372d6c39",
       "version_major": 2,
       "version_minor": 0
      },
      "text/plain": [
       "Button(description='Print Path', style=ButtonStyle())"
      ]
     },
     "metadata": {},
     "output_type": "display_data"
    }
   ],
   "source": [
    "button = widgets.Button(description=\"Update Path\")\n",
    "display(button)\n",
    "def work2(paths):\n",
    "    paths = str(paths)\n",
    "    a, b = paths.find(\"'\"), paths.find(\",\")\n",
    "    paths = paths[a:b]\n",
    "    paths = paths.replace(\"'\", \"\")\n",
    "    paths = paths\n",
    "    print(paths)\n",
    "\n",
    "def on_button_clicked(b):\n",
    "    work2(paths)\n",
    "button.on_click(on_button_clicked)"
   ]
  },
  {
   "cell_type": "markdown",
   "metadata": {},
   "source": [
    "## Insert the Output Templates Path Below"
   ]
  },
  {
   "cell_type": "code",
   "execution_count": 90,
   "metadata": {},
   "outputs": [
    {
     "data": {
      "application/vnd.jupyter.widget-view+json": {
       "model_id": "f032789db3d140108b21404541cbe903",
       "version_major": 2,
       "version_minor": 0
      },
      "text/plain": [
       "Text(value='C:\\\\\\\\Users\\\\rs623u\\\\\\\\automation\\\\\\\\testruns\\\\testout\\\\\\\\', description='PATH3', placeholder='Pas…"
      ]
     },
     "metadata": {},
     "output_type": "display_data"
    }
   ],
   "source": [
    "dest_folder = widgets.Text(\n",
    "    value= r\"C:\\\\Users\\rs623u\\\\automation\\\\testruns\\testout\\\\\",\n",
    "    placeholder=\"Paste Output Folder Path.\",\n",
    "    description=\"PATH3\",\n",
    "    disabled=False\n",
    ")\n",
    "display(dest_folder)"
   ]
  },
  {
   "cell_type": "code",
   "execution_count": 91,
   "metadata": {},
   "outputs": [
    {
     "data": {
      "application/vnd.jupyter.widget-view+json": {
       "model_id": "aff3b22d3b0142eb9d5d05966af7017c",
       "version_major": 2,
       "version_minor": 0
      },
      "text/plain": [
       "Button(description='Print Path', style=ButtonStyle())"
      ]
     },
     "metadata": {},
     "output_type": "display_data"
    }
   ],
   "source": [
    "button = widgets.Button(description=\"Update Path\")\n",
    "display(button)\n",
    "def work3(dest_folder):\n",
    "    dest_folder = str(dest_folder)\n",
    "    a, b = dest_folder.find(\"'\"), dest_folder.find(\",\")\n",
    "    dest_folder = dest_folder[a:b]\n",
    "    dest_folder = dest_folder.replace(\"'\", \"\")\n",
    "    dest_folder = dest_folder\n",
    "    print(dest_folder)\n",
    "\n",
    "\n",
    "def on_button_clicked(b):\n",
    "    work3(dest_folder)\n",
    "button.on_click(on_button_clicked)"
   ]
  },
  {
   "cell_type": "code",
   "execution_count": 92,
   "metadata": {},
   "outputs": [],
   "source": [
    "preload_list = []\n",
    "paths = str(paths.value)\n",
    "build_plan_path = str(build_plan_path.value)\n",
    "dest_folder = str(dest_folder.value)\n",
    "for idx, item in enumerate(os.listdir(paths)):\n",
    "    preload_list.append(paths+item) \n",
    "\n"
   ]
  },
  {
   "cell_type": "code",
   "execution_count": 93,
   "metadata": {},
   "outputs": [
    {
     "data": {
      "application/vnd.jupyter.widget-view+json": {
       "model_id": "d5d079a93c164717bfefda71bfb8dc84",
       "version_major": 2,
       "version_minor": 0
      },
      "text/plain": [
       "Button(description='Click Me!', style=ButtonStyle())"
      ]
     },
     "metadata": {},
     "output_type": "display_data"
    },
    {
     "name": "stdout",
     "output_type": "stream",
     "text": [
      "C:\\\\Users\\rs623u\\\\automation\\\\testruns\\testout\\\\zdpa2arqrtim02_qrt_1.xlsm\n",
      "C:\\\\Users\\rs623u\\\\automation\\\\testruns\\testout\\\\zdpa2arqrtim02_qrt_2.xlsm\n",
      "C:\\\\Users\\rs623u\\\\automation\\\\testruns\\testout\\\\zdpa2arvlbct02_vlb_1.xlsm\n",
      "C:\\\\Users\\rs623u\\\\automation\\\\testruns\\testout\\\\zdpa2arlbact02_lba_1.xlsm\n",
      "C:\\\\Users\\rs623u\\\\automation\\\\testruns\\testout\\\\zdpa2arprbct02_prb_1.xlsm\n",
      "C:\\\\Users\\rs623u\\\\automation\\\\testruns\\testout\\\\zdpa2arprbct02_prb_2.xlsm\n",
      "C:\\\\Users\\rs623u\\\\automation\\\\testruns\\testout\\\\zdpa2arprbct02_prb_3.xlsm\n",
      "C:\\\\Users\\rs623u\\\\automation\\\\testruns\\testout\\\\zdpa2arprbct02_prb_4.xlsm\n"
     ]
    }
   ],
   "source": [
    "import os\n",
    "import xlrd\n",
    "import xlwings as xw\n",
    "\n",
    "button = widgets.Button(description=\"Click Me!\")\n",
    "display(button)\n",
    "\n",
    "# def check_automation_template(build_plan_path):\n",
    "## check to see the ip's and oam protected colums in vm layout\n",
    "## make sure vm-name in vm-layout matches the vnf name prefix in vnf-specs\n",
    "## make sure set of vm-type matches set of vm-types in vnf specs\n",
    "def work4(preload_list, build_plan_path):\n",
    "    def calculate_vm_count(build_plan_path):\n",
    "        \"\"\"\n",
    "        This function:\n",
    "            - gathers the \"# of VM's\" per VM type for file generation \n",
    "            - creates list of properly named titles for final output folder based off of each vm-types vf-module-name\n",
    "            - used for function calls at the end of the program\n",
    "        \"\"\"\n",
    "        global final_vf_module_name\n",
    "        global title_list\n",
    "\n",
    "        pt = xw.Book(preload_path)\n",
    "        vm_type = pt.sheets[4].range('B7').value\n",
    "\n",
    "        # set variable to hold vm count\n",
    "        global vm_count \n",
    "        # open workbook and specify which sheet you would like to access\n",
    "        wb = xlrd.open_workbook(build_plan_path)\n",
    "        sheet_names = wb.sheet_names()\n",
    "        bp = wb.sheet_by_name(u'VNF-Specs')\n",
    "\n",
    "        # string search VNF-Specs column headers and assign each columns reference position (int) to a variable\n",
    "        # this avoids hard coding the position of certain columns\n",
    "        # order does not matter\n",
    "        for i in range(bp.nrows):\n",
    "            for j in range(bp.ncols):\n",
    "                if bp.cell_value(i, j) == \"vm-type\":\n",
    "                    col_ref_vmt = j\n",
    "                if bp.cell_value(i, j) == \"# of VM's\":\n",
    "                    col_ref_vmc = j\n",
    "                if bp.cell_value(i, j) == \"vf-module-name\":\n",
    "                        col_ref_vfmn = j\n",
    "\n",
    "        # Find the VMs that are on the build plan\n",
    "        list_of_vms = []\n",
    "        for i in range(bp.nrows):\n",
    "            list_of_vms.append(bp.cell_value(i, col_ref_vmt))\n",
    "        # remove all empty stings\n",
    "        list_of_vms = list(filter(None, list_of_vms))\n",
    "        # access the vm_type for each file\n",
    "        pt = xw.Book(preload_path)\n",
    "        vm_type_check = pt.sheets[4].range('B7').value\n",
    "        # if the vm_type is not on the build plan just build an empty list and do nothing\n",
    "        if vm_type_check not in list_of_vms:\n",
    "            title_list = []\n",
    "        # else follow through with\n",
    "        else:\n",
    "            # create dict of vm-type and each vm-types VM Count\n",
    "            count_dict = {}\n",
    "            for i in range(bp.nrows):\n",
    "                vm = bp.cell_value(i, col_ref_vmt)\n",
    "                count = bp.cell_value(i, col_ref_vmc)\n",
    "                count_dict[vm] = count\n",
    "\n",
    "            # cast as integer as it is pulled as a string\n",
    "            for k, v in count_dict.items():\n",
    "                if k == vm_type:\n",
    "                    vm_count = int(v)\n",
    "\n",
    "            # create dictionary of vm-names and vfmn for title generation  \n",
    "            vfmn_dict = {}\n",
    "            for i in range(bp.nrows):\n",
    "                vm = bp.cell_value(i, col_ref_vmt)\n",
    "                vfmn = bp.cell_value(i, col_ref_vfmn)\n",
    "                vfmn_dict[vm] = vfmn\n",
    "\n",
    "            # give the titles based on which vm-type the current file is\n",
    "            title_list = []\n",
    "            for k, v in vfmn_dict.items():\n",
    "                for i in range(1, vm_count+1):\n",
    "                    if k != '' and k == vm_type:\n",
    "                        title_list.append(v)\n",
    "\n",
    "    def change_tag(preload_path, build_plan_path):\n",
    "        \"\"\"\n",
    "        This function:\n",
    "            - initiates changes for all tag values\n",
    "        \"\"\"\n",
    "        # open workbook and specify which sheet you would like to access\n",
    "        wb = xlrd.open_workbook(build_plan_path)\n",
    "        sheet_names = wb.sheet_names()\n",
    "        bp = wb.sheet_by_name(u'Common Parameters')\n",
    "\n",
    "        params = []\n",
    "        for i in range(0, bp.nrows):\n",
    "            if bp.cell_value(i, 0) == \"Parameter Name\":\n",
    "                params.append(i)\n",
    "        start = int(params[-1]) + 1\n",
    "\n",
    "        # create dict of parameter name and associated value\n",
    "        tag_dict = {}\n",
    "        for i in range(start, bp.nrows):\n",
    "            par = bp.cell_value(i, 0)\n",
    "            val = bp.cell_value(i, 1)\n",
    "            tag_dict[par] = val\n",
    "\n",
    "        # open workbook and specify which sheet you would like to access\n",
    "        wb = xlrd.open_workbook(preload_path)\n",
    "        sheet_names = wb.sheet_names()\n",
    "        tag_sheet = wb.sheet_by_name(u'Tag-values')\n",
    "\n",
    "        # implement changes to template\n",
    "        for k, v in tag_dict.items():\n",
    "            for i in range(tag_sheet.nrows):\n",
    "                if(tag_sheet.cell_value(i, 1) == k and k != ''):\n",
    "                    wb = xw.Book(preload_path)\n",
    "                    wb.sheets[8].range('C' + str(i+1)).value = v\n",
    "                    \n",
    "    for preload_path in preload_list:\n",
    "        if \"base\" not in preload_path:\n",
    "            calculate_vm_count(build_plan_path)\n",
    "            for titles in range(0, len(title_list)):\n",
    "                wb = xw.Book(preload_path)\n",
    "                suffix = \"xlsm\"\n",
    "                change_tag(preload_path, build_plan_path)     \n",
    "                print(dest_folder + title_list[titles] + str(titles+1) + \".xlsm\")\n",
    "                #final = os.path.join(dest_folder, title_list[titles] + str(titles+1)+ \".\" + suffix)\n",
    "                #print(\"FINAL: \", final)\n",
    "                #wb.save(final)\n",
    "                wb.save(dest_folder + title_list[titles] + str(titles+1) + \".xlsm\")\n",
    "                wb.close()\n",
    "\n",
    "def on_button_clicked(b):\n",
    "    work4(preload_list, build_plan_path)\n",
    "button.on_click(on_button_clicked)"
   ]
  },
  {
   "cell_type": "code",
   "execution_count": null,
   "metadata": {},
   "outputs": [],
   "source": []
  },
  {
   "cell_type": "code",
   "execution_count": null,
   "metadata": {},
   "outputs": [],
   "source": []
  },
  {
   "cell_type": "code",
   "execution_count": null,
   "metadata": {},
   "outputs": [],
   "source": []
  }
 ],
 "metadata": {
  "kernelspec": {
   "display_name": "Python 3",
   "language": "python",
   "name": "python3"
  },
  "language_info": {
   "codemirror_mode": {
    "name": "ipython",
    "version": 3
   },
   "file_extension": ".py",
   "mimetype": "text/x-python",
   "name": "python",
   "nbconvert_exporter": "python",
   "pygments_lexer": "ipython3",
   "version": "3.7.6"
  }
 },
 "nbformat": 4,
 "nbformat_minor": 4
}
